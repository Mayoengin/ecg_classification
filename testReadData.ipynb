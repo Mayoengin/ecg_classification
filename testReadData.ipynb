{
 "cells": [
  {
   "cell_type": "code",
   "execution_count": 1,
   "id": "b673e0d7",
   "metadata": {},
   "outputs": [],
   "source": [
    "from  __future__ import division, print_function\n",
    "import os\n",
    "from tqdm import tqdm\n",
    "import numpy as np\n",
    "import random\n",
    "from utils import*\n",
    "from config import get_config"
   ]
  },
  {
   "cell_type": "code",
   "execution_count": 2,
   "id": "2a96cad7",
   "metadata": {},
   "outputs": [],
   "source": [
    "config = get_config()"
   ]
  },
  {
   "cell_type": "code",
   "execution_count": 3,
   "id": "73229b5f",
   "metadata": {},
   "outputs": [],
   "source": [
    "num='100'\n",
    "features =['MLII','V1','V2','V4','V5']\n",
    "datasetname = 'test/train.hdf5'\n",
    "labelsname = 'test/trainlabel.hdf5'\n",
    "classes = ['N','V','/','A','F','~']\n",
    "Nclass = len(classes)\n",
    "datadict,datalabel = dict(), dict()\n",
    "\n",
    "for feature in features:\n",
    "    datadict[feature] = list()\n",
    "    datalabel[feature] = list()\n",
    "    \n",
    "input_size = config.input_size\n",
    "    "
   ]
  },
  {
   "cell_type": "code",
   "execution_count": 4,
   "id": "0d315b03",
   "metadata": {},
   "outputs": [],
   "source": [
    "from wfdb import rdrecord , rdann\n",
    "record = rdrecord('dataset/'+ num,smooth_frames=True)\n",
    "\n",
    "from sklearn import preprocessing\n",
    "signals0 = preprocessing.scale(np.nan_to_num(record.p_signal[:,0]))\n",
    "signals1 = preprocessing.scale(np.nan_to_num(record.p_signal[:,1]))\n"
   ]
  },
  {
   "cell_type": "code",
   "execution_count": 5,
   "id": "e3d23c38",
   "metadata": {},
   "outputs": [],
   "source": [
    "from scipy.signal import find_peaks\n",
    "peaks,_ = find_peaks(signals0,distance=150)\n",
    "feature0, feature1 = record.sig_name[0],record.sig_name[1]\n",
    "\n",
    "for peak in peaks[1:-1]:\n",
    "    start,end = peak-input_size//2,peak+input_size//2\n",
    "    ann = rdann('dataset/' + num, extension='atr', sampfrom=start, sampto=end, return_label_elements=['symbol'])\n",
    "\n",
    "    def to_dict(chosenSym):\n",
    "        y = [0] * Nclass\n",
    "        y[classes.index(chosenSym)] = 1\n",
    "        datalabel[feature0].append(y)\n",
    "        datalabel[feature1].append(y)\n",
    "        datadict[feature0].append(signals0[start:end])\n",
    "        datadict[feature1].append(signals1[start:end])\n",
    "\n",
    "    annSymbol = ann.symbol\n",
    "\n",
    "    if len(annSymbol) == 1 and (annSymbol[0] in classes):\n",
    "        to_dict(annSymbol[0])    "
   ]
  },
  {
   "cell_type": "code",
   "execution_count": 6,
   "id": "137afa67",
   "metadata": {},
   "outputs": [],
   "source": [
    "for feature in [\"MLII\", \"V1\"]:\n",
    "    datadict[feature] = np.array(datadict[feature])\n",
    "    datalabel[feature] = np.array(datalabel[feature])\n"
   ]
  },
  {
   "cell_type": "code",
   "execution_count": null,
   "id": "9d5945ac",
   "metadata": {},
   "outputs": [],
   "source": []
  },
  {
   "cell_type": "code",
   "execution_count": null,
   "id": "b32755aa",
   "metadata": {},
   "outputs": [],
   "source": []
  }
 ],
 "metadata": {
  "kernelspec": {
   "display_name": "Python 3 (ipykernel)",
   "language": "python",
   "name": "python3"
  },
  "language_info": {
   "codemirror_mode": {
    "name": "ipython",
    "version": 3
   },
   "file_extension": ".py",
   "mimetype": "text/x-python",
   "name": "python",
   "nbconvert_exporter": "python",
   "pygments_lexer": "ipython3",
   "version": "3.11.5"
  }
 },
 "nbformat": 4,
 "nbformat_minor": 5
}
