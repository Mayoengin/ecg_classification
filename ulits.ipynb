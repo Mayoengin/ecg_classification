{
 "cells": [
  {
   "cell_type": "code",
   "execution_count": 1,
   "id": "1aa1ec16",
   "metadata": {},
   "outputs": [
    {
     "name": "stdout",
     "output_type": "stream",
     "text": [
      "WARNING:tensorflow:From C:\\Users\\moham\\anaconda3\\Lib\\site-packages\\keras\\src\\losses.py:2976: The name tf.losses.sparse_softmax_cross_entropy is deprecated. Please use tf.compat.v1.losses.sparse_softmax_cross_entropy instead.\n",
      "\n"
     ]
    }
   ],
   "source": [
    "from __future__ import division, print_function\n",
    "import matplotlib.pyplot as plt\n",
    "import numpy as np\n",
    "from tqdm import tqdm\n",
    "from keras.callbacks import LearningRateScheduler\n",
    "from sklearn.metrics import confusion_matrix, roc_auc_score, roc_curve,classification_report\n",
    "import os\n",
    "import deepdish.io as ddio \n"
   ]
  },
  {
   "cell_type": "code",
   "execution_count": 2,
   "id": "ccc844de",
   "metadata": {},
   "outputs": [],
   "source": [
    "def mkdir_recursive(path):\n",
    "    if path == \"\":\n",
    "        return\n",
    "    sub_path = os.path.dirname(path)\n",
    "    if not os.path.exists(sub_path):\n",
    "        mkdir_recursive(sub_path)\n",
    "    if not os.path.exists(path):\n",
    "        print(\"creating directory\" + path)\n",
    "        os.mkdir(path)"
   ]
  },
  {
   "cell_type": "code",
   "execution_count": 3,
   "id": "4d7a989e",
   "metadata": {},
   "outputs": [],
   "source": [
    "def loaddata(input_size, feature):\n",
    "    mkdir_recursive('dataset')\n",
    "    trainData = ddio.load('dataset/train.hdf5')\n",
    "    trainlabelData = ddio.load('dataset/trainlabel.hdf5')\n",
    "    X = np.float32(trainData[feature])\n",
    "    y = np.float32(trainlabelData[feature])\n",
    "    att = np.concatenate((X, y), axis=1)\n",
    "    np.random.shuffle(att)\n",
    "    X, y = att[:, :input_size], att[:, input_size:]\n",
    "    \n",
    "    print(\"Shape of X:\", X.shape)\n",
    "    print(\"Shape of y:\", y.shape)\n",
    "\n",
    "    valData = ddio.load('dataset/test.hdf5')\n",
    "    vallabelData = ddio.load('dataset/testlabel.hdf5')\n",
    "    Xval = np.float32(valData[feature])\n",
    "    yval = np.float32(vallabelData[feature])\n",
    "    \n",
    "    print(\"Shape of Xval:\", Xval.shape)\n",
    "    print(\"Shape of yval:\", yval.shape)\n",
    "\n",
    "    return X, y, Xval, yval"
   ]
  },
  {
   "cell_type": "code",
   "execution_count": 4,
   "id": "47fd7dcf",
   "metadata": {},
   "outputs": [],
   "source": [
    "def loaddata_nosplit(input_size, feature):\n",
    "    mkdir_recursive('dataset')\n",
    "    trainData = ddio.load('dataset/targetdata.hdf5')\n",
    "    trainlabelData = ddio.load('dataset/labeldata.hdf5')\n",
    "    X = np.float32(trainData[feature])\n",
    "    y = np.float32(trainlabelData[feature])\n",
    "    att = np.concatenate((X, y), axis=1)  # Corrected typo\n",
    "    np.random.shuffle(att)\n",
    "    X, y = att[:, :input_size], att[:, input_size:]\n",
    "    return X, y\n"
   ]
  },
  {
   "cell_type": "code",
   "execution_count": 5,
   "id": "d3e3ac46",
   "metadata": {},
   "outputs": [],
   "source": [
    "def print_results(config, model, Xval, yval, classes):\n",
    "    # Ensure yval is in the correct shape for evaluation\n",
    "    yval_reshaped = np.argmax(yval, axis=-1)  # Assuming yval is one-hot encoded\n",
    "    \n",
    "    # Predict the validation set\n",
    "    y_pred = model.predict(Xval)\n",
    "    y_pred_classes = np.argmax(y_pred, axis=-1)  # Convert predictions to class indices\n",
    "    \n",
    "    # Calculate and print classification report\n",
    "    report = classification_report(yval_reshaped, y_pred_classes, target_names=classes, output_dict=True)\n",
    "    print(\"Class\\tPrecision\\tRecall\\tF1 Score\\tSupport\")\n",
    "    \n",
    "    # Print out the metrics for each class including support (the number of true instances for each label)\n",
    "    for label, metrics in report.items():\n",
    "        if label not in ['accuracy', 'macro avg', 'weighted avg']:\n",
    "            print(f\"{label}\\t{metrics['precision']:.2f}\\t\\t{metrics['recall']:.2f}\\t{metrics['f1-score']:.2f}\\t\\t{metrics['support']}\")\n",
    "    \n",
    "    # Print macro average (excluding the last line for 'accuracy' as it is overall accuracy)\n",
    "    macro_avg = report['macro avg']\n",
    "    print(f\"Macro Avg\\t{macro_avg['precision']:.2f}\\t\\t{macro_avg['recall']:.2f}\\t{macro_avg['f1-score']:.2f}\\t\\t-\")\n",
    "    \n",
    "    # If you want to include accuracy per class, you need to calculate it manually using the confusion matrix\n",
    "    cm = confusion_matrix(yval_reshaped, y_pred_classes)\n",
    "    accuracies = cm.diagonal() / cm.sum(axis=1)\n",
    "    for i, label in enumerate(classes):\n",
    "        print(f\"Accuracy for class {label}: {accuracies[i]:.2f}\")"
   ]
  },
  {
   "cell_type": "code",
   "execution_count": null,
   "id": "bc272243",
   "metadata": {},
   "outputs": [],
   "source": []
  }
 ],
 "metadata": {
  "kernelspec": {
   "display_name": "Python 3 (ipykernel)",
   "language": "python",
   "name": "python3"
  },
  "language_info": {
   "codemirror_mode": {
    "name": "ipython",
    "version": 3
   },
   "file_extension": ".py",
   "mimetype": "text/x-python",
   "name": "python",
   "nbconvert_exporter": "python",
   "pygments_lexer": "ipython3",
   "version": "3.11.5"
  }
 },
 "nbformat": 4,
 "nbformat_minor": 5
}
