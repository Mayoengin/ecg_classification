{
 "cells": [
  {
   "cell_type": "code",
   "execution_count": 3,
   "id": "dce3fe6c",
   "metadata": {},
   "outputs": [
    {
     "name": "stdout",
     "output_type": "stream",
     "text": [
      "WARNING:tensorflow:From C:\\Users\\moham\\anaconda3\\Lib\\site-packages\\keras\\src\\losses.py:2976: The name tf.losses.sparse_softmax_cross_entropy is deprecated. Please use tf.compat.v1.losses.sparse_softmax_cross_entropy instead.\n",
      "\n"
     ]
    }
   ],
   "source": [
    "from __future__ import division, print_function\n",
    "from keras.models import Model\n",
    "from keras.optimizers import Adam\n",
    "import keras.backend as K\n",
    "from keras.layers import Input, Conv1D, BatchNormalization, Activation, Dropout, MaxPooling1D, Lambda, add, Dense, TimeDistributed\n",
    "from keras.layers import Input, Conv1D, BatchNormalization, Activation, MaxPooling1D, Dropout, Dense, add, GlobalAveragePooling1D, Reshape\n",
    "from keras.models import Model\n",
    "from keras.optimizers import Adam\n",
    "from config import get_config\n"
   ]
  },
  {
   "cell_type": "code",
   "execution_count": 8,
   "id": "d14af55b",
   "metadata": {},
   "outputs": [],
   "source": [
    "def ECG_model(config):\n",
    "    inputs = Input(shape=(config.input_size, 1), name='input')\n",
    "    \n",
    "    x = Conv1D(filters=config.filter_length, kernel_size=config.kernel_size, padding='same', strides=1, kernel_initializer='he_normal')(inputs)\n",
    "    x = BatchNormalization()(x)\n",
    "    x = Activation('relu')(x)\n",
    "    \n",
    "    for i in range(15):  # Your loop for convolutional and identity blocks\n",
    "        shortcut = x\n",
    "        if i % 2 == 0:\n",
    "            x = Conv1D(filters=config.filter_length, kernel_size=1, strides=2, padding='same', kernel_initializer='he_normal')(x)\n",
    "        else:\n",
    "            x = Conv1D(filters=config.filter_length, kernel_size=config.kernel_size, padding='same', strides=1, kernel_initializer='he_normal')(x)\n",
    "        x = BatchNormalization()(x)\n",
    "        x = Activation('relu')(x)\n",
    "        x = Dropout(config.drop_rate)(x)\n",
    "        x = Conv1D(filters=config.filter_length, kernel_size=config.kernel_size, padding='same', strides=1, kernel_initializer='he_normal')(x)\n",
    "        \n",
    "        if i % 2 == 0:\n",
    "            shortcut = Conv1D(filters=config.filter_length, kernel_size=1, strides=2, padding='same', kernel_initializer='he_normal')(shortcut)\n",
    "        x = add([x, shortcut])\n",
    "        x = BatchNormalization()(x)\n",
    "        x = Activation('relu')(x)\n",
    "    \n",
    "    # Adjusting for TimeDistributed layer\n",
    "    # Assuming we need to adjust the dimensionality for TimeDistributed\n",
    "    x = Reshape((-1, config.filter_length))(x)  # Adjust the reshape dimensions as necessary\n",
    "\n",
    "    classes = ['N', 'V', '/', 'A', 'F', '~']\n",
    "    len_classes = len(classes)\n",
    "    outputs = TimeDistributed(Dense(len_classes, activation='softmax'))(x)\n",
    "\n",
    "    model = Model(inputs=inputs, outputs=outputs)\n",
    "    adam = Adam(lr=config.min_lr)  # Adjusted to use min_lr from your config\n",
    "    model.compile(optimizer=adam, loss='categorical_crossentropy', metrics=['accuracy'])\n",
    "    model.summary()\n",
    "    return model"
   ]
  },
  {
   "cell_type": "code",
   "execution_count": null,
   "id": "2beb96bd",
   "metadata": {},
   "outputs": [],
   "source": []
  }
 ],
 "metadata": {
  "kernelspec": {
   "display_name": "Python 3 (ipykernel)",
   "language": "python",
   "name": "python3"
  },
  "language_info": {
   "codemirror_mode": {
    "name": "ipython",
    "version": 3
   },
   "file_extension": ".py",
   "mimetype": "text/x-python",
   "name": "python",
   "nbconvert_exporter": "python",
   "pygments_lexer": "ipython3",
   "version": "3.11.5"
  }
 },
 "nbformat": 4,
 "nbformat_minor": 5
}
